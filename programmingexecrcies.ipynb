{
 "cells": [
  {
   "cell_type": "code",
   "execution_count": 1,
   "metadata": {},
   "outputs": [
    {
     "data": {
      "text/plain": [
       "'\\n1. solving algorythm problems\\n\\n1.Listen\\n2.Example\\n3.Brute Force\\n4.Optimise\\n5.Walk back and understand\\n6.Code\\n\\nWhat matters\\nStyle: naming conventions, descriptive variables, consistency!\\nModularise (Put steps into function)\\n\\nAnalyse\\nTest- think what causes bugs\\n\\n2. Algorythm strategies\\n\\n'"
      ]
     },
     "execution_count": 1,
     "metadata": {},
     "output_type": "execute_result"
    }
   ],
   "source": [
    "'''\n",
    "1. solving algorythm problems\n",
    "\n",
    "1.Listen\n",
    "2.Example\n",
    "3.Brute Force\n",
    "4.Optimise\n",
    "5.Walk back and understand\n",
    "6.Code\n",
    "\n",
    "What matters\n",
    "Style: naming conventions, descriptive variables, consistency!\n",
    "Modularise (Put steps into function)\n",
    "\n",
    "Analyse\n",
    "Test- think what causes bugs\n",
    "\n",
    "\n",
    "'''"
   ]
  },
  {
   "cell_type": "code",
   "execution_count": 2,
   "metadata": {},
   "outputs": [],
   "source": [
    "#how many elements in lists in common"
   ]
  },
  {
   "cell_type": "code",
   "execution_count": 84,
   "metadata": {},
   "outputs": [
    {
     "data": {
      "text/plain": [
       "[6, 23]"
      ]
     },
     "execution_count": 84,
     "metadata": {},
     "output_type": "execute_result"
    }
   ],
   "source": [
    "a = [2, 5, 6, 23]\n",
    "b = [23, 6, 8, 7]\n",
    "\n",
    "c = [\"a\", \"c\", \"f\"]\n",
    "d = [\"g\",\"h\",\"a\"]\n",
    "\n",
    "def find_common_ellements(a,b):\n",
    "    return(list(set(a).intersection(b)))\n",
    "\n",
    "find_common_ellements(a,b)"
   ]
  },
  {
   "cell_type": "code",
   "execution_count": 85,
   "metadata": {},
   "outputs": [
    {
     "data": {
      "text/plain": [
       "['a']"
      ]
     },
     "execution_count": 85,
     "metadata": {},
     "output_type": "execute_result"
    }
   ],
   "source": [
    "find_common_ellements(c,d)"
   ]
  },
  {
   "cell_type": "code",
   "execution_count": 5,
   "metadata": {},
   "outputs": [
    {
     "data": {
      "text/plain": [
       "4"
      ]
     },
     "execution_count": 5,
     "metadata": {},
     "output_type": "execute_result"
    }
   ],
   "source": [
    "#Count characters\n",
    "sentence = 'Mary had a little lamb'\n",
    "sentence.count('a')"
   ]
  },
  {
   "cell_type": "code",
   "execution_count": 6,
   "metadata": {},
   "outputs": [],
   "source": [
    "e = \"Memorise\"\n",
    "f = \"Memory\"\n",
    "\n",
    "shorter_length = (min(len(e),len(f)))\n",
    "\n",
    "\n",
    "def count_common_elements(string1, string2):\n",
    "    \n",
    "    count = 0\n",
    "    for i in range(shorter_length):\n",
    "        if string1[i] == string2[i]:\n",
    "            count +=1\n",
    "    return (count)"
   ]
  },
  {
   "cell_type": "code",
   "execution_count": 7,
   "metadata": {},
   "outputs": [
    {
     "data": {
      "text/plain": [
       "5"
      ]
     },
     "execution_count": 7,
     "metadata": {},
     "output_type": "execute_result"
    }
   ],
   "source": [
    "count_common_elements(e,f)"
   ]
  },
  {
   "cell_type": "code",
   "execution_count": null,
   "metadata": {},
   "outputs": [],
   "source": [
    "# Find all a,b,c,d <1000 for which a^3+b^3=c^3+d^3 holds\n",
    "\n",
    "for a in range(1,1000):\n",
    "    for b in range (1,1000):\n",
    "        for c in range (1,1000):\n",
    "            for d in range (1,1000):\n",
    "                if a^3 + b^3 == c^3 + d^3:\n",
    "                    print (a, c, b, d)\n",
    "                    break"
   ]
  },
  {
   "cell_type": "code",
   "execution_count": 33,
   "metadata": {},
   "outputs": [
    {
     "name": "stdout",
     "output_type": "stream",
     "text": [
      "Results: {'John': 1, 'Anna': 2, 'Jakub': 2, 'Robert': 1}\n",
      "Most votes:  2\n",
      "Jakub\n"
     ]
    }
   ],
   "source": [
    "votes = [\"John\", \"Anna\", \"Jakub\", \"Jakub\", \"Robert\", \"Anna\"]\n",
    "results = {}\n",
    "\n",
    "for name in votes:\n",
    "    if name not in results:\n",
    "        results.setdefault(name,1)\n",
    "    else:\n",
    "        results[name] +=1\n",
    "\n",
    "vote_counts = []\n",
    "possible_winners = []\n",
    "for value in results.values():\n",
    "    vote_counts.append(value)\n",
    "    \n",
    "print (\"Results:\" , results)\n",
    "most_votes = max(vote_counts)    \n",
    "print (\"Most votes: \", most_votes)\n",
    "\n",
    "possible_winners = [k for k,v in results.items() if v == most_votes]\n",
    "possible_winners.sort()\n",
    "winner = possible_winners[-1]\n",
    "print (winner)"
   ]
  },
  {
   "cell_type": "code",
   "execution_count": 66,
   "metadata": {},
   "outputs": [
    {
     "data": {
      "text/plain": [
       "False"
      ]
     },
     "execution_count": 66,
     "metadata": {},
     "output_type": "execute_result"
    }
   ],
   "source": [
    "def findPairs(arr, n): \n",
    "  \n",
    "    # Create an empty hashmap to store mapping  \n",
    "    # from sum to pair indexes \n",
    "    Hash = {} \n",
    "\n",
    "    # Traverse through all possible pairs of arr[] \n",
    "    for i in range(n - 1): \n",
    "        for j in range(i + 1, n): \n",
    "            sum = arr[i] + arr[j] \n",
    "# Sum already present in hash \n",
    "            if sum in Hash.keys(): \n",
    "                # print previous pair and current \n",
    "                prev = Hash.get(sum) \n",
    "                print (str(prev) + \" and (%d, %d)\"\n",
    "                %(arr[i], arr[j]))    \n",
    "                return True\n",
    "            else: \n",
    "                # sum is not in hash \n",
    "                # store it and continue to next pair \n",
    "                Hash[sum] = (arr[i], arr[j]) \n",
    "                return False\n",
    "\n",
    "arr = [3, 4, 7, 1, 2, 9, 8] \n",
    "n = len(arr) \n",
    "findPairs(arr, n)"
   ]
  },
  {
   "cell_type": "code",
   "execution_count": 54,
   "metadata": {},
   "outputs": [],
   "source": [
    "#itertools.combinations() module in Python to print all possible combinations"
   ]
  },
  {
   "cell_type": "code",
   "execution_count": 74,
   "metadata": {},
   "outputs": [
    {
     "data": {
      "text/plain": [
       "2"
      ]
     },
     "execution_count": 74,
     "metadata": {},
     "output_type": "execute_result"
    }
   ],
   "source": [
    "x= \"Miasto\"\n",
    "y = \"Miska\"\n",
    "\n",
    "def compare_strings(stringA, stringB):\n",
    "    count = 0 \n",
    "    for char in range(len(stringA)):\n",
    "        if stringA[count]== stringB[count]:\n",
    "            count +=1\n",
    "    return (count)\n",
    "        \n",
    "        \n",
    "compare_strings(x,y)"
   ]
  },
  {
   "cell_type": "code",
   "execution_count": 80,
   "metadata": {},
   "outputs": [
    {
     "data": {
      "text/plain": [
       "4"
      ]
     },
     "execution_count": 80,
     "metadata": {},
     "output_type": "execute_result"
    }
   ],
   "source": [
    "w = \"zenon\"\n",
    "z = \"majonez\"\n",
    "\n",
    "def compare_strings_reverse(stringA, stringB):\n",
    "    count = 0\n",
    "    add = 0\n",
    "    substract = -1\n",
    "    for char in range(len(stringA)):\n",
    "        if stringA[add]== stringB[substract]:\n",
    "            count +=1\n",
    "            add +=1\n",
    "            substract -=1\n",
    "                        \n",
    "    return (count)\n",
    "\n",
    "compare_strings_reverse(w,z)"
   ]
  },
  {
   "cell_type": "code",
   "execution_count": 81,
   "metadata": {},
   "outputs": [
    {
     "name": "stdout",
     "output_type": "stream",
     "text": [
      "1\n"
     ]
    }
   ],
   "source": [
    "def first_missing_positive(nums):\n",
    "    count = 1    \n",
    "    while count in nums:\n",
    "        count +=1\n",
    "    return (count)\n",
    "\n",
    "A = [0, 10, 2, -10, -20] \n",
    "print(first_missing_positive(A))"
   ]
  },
  {
   "cell_type": "code",
   "execution_count": null,
   "metadata": {},
   "outputs": [],
   "source": [
    "# SELECT sum(v) FROM elements;"
   ]
  }
 ],
 "metadata": {
  "kernelspec": {
   "display_name": "Python 3",
   "language": "python",
   "name": "python3"
  }
 },
 "nbformat": 4,
 "nbformat_minor": 2
}
