{
 "cells": [
  {
   "cell_type": "code",
   "execution_count": 1,
   "metadata": {},
   "outputs": [],
   "source": [
    "import pandas as pd\n",
    "import numpy as np\n",
    "from matplotlib import pyplot as plt\n",
    "%matplotlib inline"
   ]
  },
  {
   "cell_type": "markdown",
   "metadata": {},
   "source": [
    "<b>1. Wczytać plik csv.</b>"
   ]
  },
  {
   "cell_type": "code",
   "execution_count": 2,
   "metadata": {},
   "outputs": [],
   "source": [
    "df = pd.read_csv(\"dane.csv\")"
   ]
  },
  {
   "cell_type": "code",
   "execution_count": 3,
   "metadata": {},
   "outputs": [
    {
     "data": {
      "text/html": [
       "<div>\n",
       "<style scoped>\n",
       "    .dataframe tbody tr th:only-of-type {\n",
       "        vertical-align: middle;\n",
       "    }\n",
       "\n",
       "    .dataframe tbody tr th {\n",
       "        vertical-align: top;\n",
       "    }\n",
       "\n",
       "    .dataframe thead th {\n",
       "        text-align: right;\n",
       "    }\n",
       "</style>\n",
       "<table border=\"1\" class=\"dataframe\">\n",
       "  <thead>\n",
       "    <tr style=\"text-align: right;\">\n",
       "      <th></th>\n",
       "      <th>client_id</th>\n",
       "      <th>profit</th>\n",
       "      <th>closed_volume</th>\n",
       "      <th>side</th>\n",
       "      <th>reg_date</th>\n",
       "    </tr>\n",
       "  </thead>\n",
       "  <tbody>\n",
       "    <tr>\n",
       "      <th>0</th>\n",
       "      <td>223946</td>\n",
       "      <td>165.496791</td>\n",
       "      <td>9917</td>\n",
       "      <td>SELL</td>\n",
       "      <td>1.474020e+12</td>\n",
       "    </tr>\n",
       "    <tr>\n",
       "      <th>1</th>\n",
       "      <td>223946</td>\n",
       "      <td>55.195228</td>\n",
       "      <td>9953</td>\n",
       "      <td>SELL</td>\n",
       "      <td>1.474020e+12</td>\n",
       "    </tr>\n",
       "    <tr>\n",
       "      <th>2</th>\n",
       "      <td>223946</td>\n",
       "      <td>713.153400</td>\n",
       "      <td>10000</td>\n",
       "      <td>SELL</td>\n",
       "      <td>1.474020e+12</td>\n",
       "    </tr>\n",
       "    <tr>\n",
       "      <th>3</th>\n",
       "      <td>223961</td>\n",
       "      <td>3.262358</td>\n",
       "      <td>1975</td>\n",
       "      <td>BUY</td>\n",
       "      <td>1.484050e+12</td>\n",
       "    </tr>\n",
       "    <tr>\n",
       "      <th>4</th>\n",
       "      <td>223961</td>\n",
       "      <td>-317.982441</td>\n",
       "      <td>3000</td>\n",
       "      <td>BUY</td>\n",
       "      <td>1.484050e+12</td>\n",
       "    </tr>\n",
       "  </tbody>\n",
       "</table>\n",
       "</div>"
      ],
      "text/plain": [
       "   client_id      profit  closed_volume  side      reg_date\n",
       "0     223946  165.496791           9917  SELL  1.474020e+12\n",
       "1     223946   55.195228           9953  SELL  1.474020e+12\n",
       "2     223946  713.153400          10000  SELL  1.474020e+12\n",
       "3     223961    3.262358           1975   BUY  1.484050e+12\n",
       "4     223961 -317.982441           3000   BUY  1.484050e+12"
      ]
     },
     "execution_count": 3,
     "metadata": {},
     "output_type": "execute_result"
    }
   ],
   "source": [
    "df.head()"
   ]
  },
  {
   "cell_type": "markdown",
   "metadata": {},
   "source": [
    "<b> 2. Znaleźć client_id, closed_volume oraz reg_date dla transakcji, na której był największy profit. </b>"
   ]
  },
  {
   "cell_type": "code",
   "execution_count": 4,
   "metadata": {},
   "outputs": [
    {
     "name": "stdout",
     "output_type": "stream",
     "text": [
      "        client_id       profit  closed_volume  side      reg_date\n",
      "402816     224050  1917.008043           1000  SELL  1.533160e+12\n"
     ]
    }
   ],
   "source": [
    "max_profit_row = df[df['profit']== df['profit'].max()]\n",
    "print(max_profit_row)"
   ]
  },
  {
   "cell_type": "code",
   "execution_count": 5,
   "metadata": {},
   "outputs": [
    {
     "data": {
      "text/html": [
       "<div>\n",
       "<style scoped>\n",
       "    .dataframe tbody tr th:only-of-type {\n",
       "        vertical-align: middle;\n",
       "    }\n",
       "\n",
       "    .dataframe tbody tr th {\n",
       "        vertical-align: top;\n",
       "    }\n",
       "\n",
       "    .dataframe thead th {\n",
       "        text-align: right;\n",
       "    }\n",
       "</style>\n",
       "<table border=\"1\" class=\"dataframe\">\n",
       "  <thead>\n",
       "    <tr style=\"text-align: right;\">\n",
       "      <th></th>\n",
       "      <th>client_id</th>\n",
       "      <th>closed_volume</th>\n",
       "      <th>reg_date</th>\n",
       "    </tr>\n",
       "  </thead>\n",
       "  <tbody>\n",
       "    <tr>\n",
       "      <th>402816</th>\n",
       "      <td>224050</td>\n",
       "      <td>1000</td>\n",
       "      <td>1.533160e+12</td>\n",
       "    </tr>\n",
       "  </tbody>\n",
       "</table>\n",
       "</div>"
      ],
      "text/plain": [
       "        client_id  closed_volume      reg_date\n",
       "402816     224050           1000  1.533160e+12"
      ]
     },
     "execution_count": 5,
     "metadata": {},
     "output_type": "execute_result"
    }
   ],
   "source": [
    "max_profit_row[['client_id','closed_volume','reg_date']]"
   ]
  },
  {
   "cell_type": "markdown",
   "metadata": {},
   "source": [
    "<b>3. Stworzyć nową tabelę z pogrupowanymi danymi. Kolejne kolumny to:</b>\n",
    "- client_id\n",
    "- suma profitu danego klienta\n",
    "- średni wolumen na transakcji\n",
    "- liczba transakcji klienta\n",
    "- data rejestracji klienta\n",
    "\n",
    "<b>przykładowy wiersz: [client_id, sum(profit), avg(closed_volume), reg_date] = [123156, 1235, 111, 1500000000000]\n",
    "</b>"
   ]
  },
  {
   "cell_type": "code",
   "execution_count": 6,
   "metadata": {},
   "outputs": [],
   "source": [
    "df2 = df.groupby('client_id').agg({'profit': 'sum', 'closed_volume': ['mean','count'], 'reg_date':'min' })"
   ]
  },
  {
   "cell_type": "code",
   "execution_count": 7,
   "metadata": {},
   "outputs": [],
   "source": [
    "df2.columns = ['sum(profit)', 'avg(closed_volume)', 'count(transactions)', 'reg_date']"
   ]
  },
  {
   "cell_type": "code",
   "execution_count": 8,
   "metadata": {},
   "outputs": [
    {
     "data": {
      "text/html": [
       "<div>\n",
       "<style scoped>\n",
       "    .dataframe tbody tr th:only-of-type {\n",
       "        vertical-align: middle;\n",
       "    }\n",
       "\n",
       "    .dataframe tbody tr th {\n",
       "        vertical-align: top;\n",
       "    }\n",
       "\n",
       "    .dataframe thead th {\n",
       "        text-align: right;\n",
       "    }\n",
       "</style>\n",
       "<table border=\"1\" class=\"dataframe\">\n",
       "  <thead>\n",
       "    <tr style=\"text-align: right;\">\n",
       "      <th></th>\n",
       "      <th>sum(profit)</th>\n",
       "      <th>avg(closed_volume)</th>\n",
       "      <th>count(transactions)</th>\n",
       "      <th>reg_date</th>\n",
       "    </tr>\n",
       "    <tr>\n",
       "      <th>client_id</th>\n",
       "      <th></th>\n",
       "      <th></th>\n",
       "      <th></th>\n",
       "      <th></th>\n",
       "    </tr>\n",
       "  </thead>\n",
       "  <tbody>\n",
       "    <tr>\n",
       "      <th>143546</th>\n",
       "      <td>-101.903273</td>\n",
       "      <td>3086.500000</td>\n",
       "      <td>10</td>\n",
       "      <td>1.445370e+12</td>\n",
       "    </tr>\n",
       "    <tr>\n",
       "      <th>143565</th>\n",
       "      <td>-2347.015062</td>\n",
       "      <td>4.160000</td>\n",
       "      <td>25</td>\n",
       "      <td>1.452440e+12</td>\n",
       "    </tr>\n",
       "    <tr>\n",
       "      <th>143566</th>\n",
       "      <td>-1753.888235</td>\n",
       "      <td>6421.741497</td>\n",
       "      <td>147</td>\n",
       "      <td>1.481560e+12</td>\n",
       "    </tr>\n",
       "    <tr>\n",
       "      <th>144015</th>\n",
       "      <td>-464.168235</td>\n",
       "      <td>1000.000000</td>\n",
       "      <td>1</td>\n",
       "      <td>1.496150e+12</td>\n",
       "    </tr>\n",
       "    <tr>\n",
       "      <th>223841</th>\n",
       "      <td>-996.534271</td>\n",
       "      <td>1.053571</td>\n",
       "      <td>56</td>\n",
       "      <td>1.462880e+12</td>\n",
       "    </tr>\n",
       "  </tbody>\n",
       "</table>\n",
       "</div>"
      ],
      "text/plain": [
       "           sum(profit)  avg(closed_volume)  count(transactions)      reg_date\n",
       "client_id                                                                    \n",
       "143546     -101.903273         3086.500000                   10  1.445370e+12\n",
       "143565    -2347.015062            4.160000                   25  1.452440e+12\n",
       "143566    -1753.888235         6421.741497                  147  1.481560e+12\n",
       "144015     -464.168235         1000.000000                    1  1.496150e+12\n",
       "223841     -996.534271            1.053571                   56  1.462880e+12"
      ]
     },
     "execution_count": 8,
     "metadata": {},
     "output_type": "execute_result"
    }
   ],
   "source": [
    "df2.head()"
   ]
  },
  {
   "cell_type": "markdown",
   "metadata": {},
   "source": [
    "<b>4. Stworzyć zmienną reg_date_bin, która przyjmuje 1 gdy data rejestracji jest większa niż 1515000000000,\n",
    " i 0 w przeciwnym przypadku.</b>"
   ]
  },
  {
   "cell_type": "code",
   "execution_count": 9,
   "metadata": {},
   "outputs": [],
   "source": [
    "df['reg_date_bin']=df['reg_date'].apply(lambda x: 1 if x > 1515000000000 else 0)"
   ]
  },
  {
   "cell_type": "markdown",
   "metadata": {},
   "source": [
    "<b> 5. Stworzyć model regresji liniowej, gdzie zmienną zależną będzie suma profitu, a niezależną średni wolumen,\n",
    "liczba transakcji oraz binarna zmienna reg_date_bin (w modelu uwzględnić stałą). Sprawdzić istotność zmiennych.</b>"
   ]
  },
  {
   "cell_type": "code",
   "execution_count": 10,
   "metadata": {},
   "outputs": [],
   "source": [
    "# y: sum(profit)\n",
    "# x : avg(closed_volume) , count(transactions) , reg_date_bin, constant"
   ]
  },
  {
   "cell_type": "code",
   "execution_count": 11,
   "metadata": {},
   "outputs": [],
   "source": [
    "df2['reg_date_bin']=df2['reg_date'].apply(lambda x: 1 if x > 1515000000000 else 0)"
   ]
  },
  {
   "cell_type": "code",
   "execution_count": 12,
   "metadata": {},
   "outputs": [],
   "source": [
    "import statsmodels.api as sm"
   ]
  },
  {
   "cell_type": "code",
   "execution_count": 13,
   "metadata": {},
   "outputs": [
    {
     "name": "stdout",
     "output_type": "stream",
     "text": [
      "                            OLS Regression Results                            \n",
      "==============================================================================\n",
      "Dep. Variable:            sum(profit)   R-squared:                       0.994\n",
      "Model:                            OLS   Adj. R-squared:                  0.993\n",
      "Method:                 Least Squares   F-statistic:                     3283.\n",
      "Date:                Wed, 30 Jan 2019   Prob (F-statistic):           4.02e-69\n",
      "Time:                        23:17:15   Log-Likelihood:                -787.89\n",
      "No. Observations:                  67   AIC:                             1584.\n",
      "Df Residuals:                      63   BIC:                             1593.\n",
      "Df Model:                           3                                         \n",
      "Covariance Type:            nonrobust                                         \n",
      "=======================================================================================\n",
      "                          coef    std err          t      P>|t|      [0.025      0.975]\n",
      "---------------------------------------------------------------------------------------\n",
      "const                3078.4170   5799.813      0.531      0.597   -8511.585    1.47e+04\n",
      "avg(closed_volume)     -0.1701      0.061     -2.769      0.007      -0.293      -0.047\n",
      "count(transactions)   -10.6745      0.110    -96.896      0.000     -10.895     -10.454\n",
      "reg_date_bin         7879.0078   8191.686      0.962      0.340   -8490.770    2.42e+04\n",
      "==============================================================================\n",
      "Omnibus:                       18.669   Durbin-Watson:                   1.747\n",
      "Prob(Omnibus):                  0.000   Jarque-Bera (JB):               63.258\n",
      "Skew:                          -0.620   Prob(JB):                     1.84e-14\n",
      "Kurtosis:                       7.596   Cond. No.                     1.73e+05\n",
      "==============================================================================\n",
      "\n",
      "Warnings:\n",
      "[1] Standard Errors assume that the covariance matrix of the errors is correctly specified.\n",
      "[2] The condition number is large, 1.73e+05. This might indicate that there are\n",
      "strong multicollinearity or other numerical problems.\n"
     ]
    }
   ],
   "source": [
    "X = df2[['avg(closed_volume)','count(transactions)', 'reg_date_bin']] \n",
    "Y = df2['sum(profit)']\n",
    "X = sm.add_constant(X) # add a constant\n",
    "model = sm.OLS(Y, X).fit()\n",
    "predictions = model.predict(X) \n",
    "\n",
    "print(model.summary())"
   ]
  },
  {
   "cell_type": "code",
   "execution_count": 14,
   "metadata": {
    "scrolled": true
   },
   "outputs": [
    {
     "name": "stdout",
     "output_type": "stream",
     "text": [
      "H0: There is little to no statistical relationship between dependent and independent variable.\n",
      "If P value less than the confidence level, assume 0.05, there is a statistically significant relationship between the term and the response.\n",
      "\n",
      "Variables significance test results: \n",
      "\n",
      "As we can see from the above summary, assuming 0.05 confidence level,\n",
      "We can reject H0 for avg(closed_volume) and count(transactions).\n",
      "On the other hand, we fail to reject H0 for const and reg_date_bin .\n"
     ]
    }
   ],
   "source": [
    "print(\"\"\"H0: There is little to no statistical relationship between dependent and independent variable.\n",
    "If P value less than the confidence level, assume 0.05, there is a statistically significant relationship between the term and the response.\\n\"\"\")\n",
    "print (\"Variables significance test results: \\n\")\n",
    "print (\"As we can see from the above summary, assuming 0.05 confidence level,\")\n",
    "print (\"We can reject H0 for avg(closed_volume) and count(transactions).\")\n",
    "print (\"On the other hand, we fail to reject H0 for const and reg_date_bin .\")"
   ]
  },
  {
   "cell_type": "markdown",
   "metadata": {},
   "source": [
    "<b>6. Sprawdzić dopasowanie modelu do danych za pomocą jednej (dowolnie wybranej) miary.</b>\n"
   ]
  },
  {
   "cell_type": "code",
   "execution_count": 15,
   "metadata": {},
   "outputs": [
    {
     "name": "stdout",
     "output_type": "stream",
     "text": [
      "Model fit test: \n",
      "\n",
      "The Prob (F-statistic) in the model: 0.000000000000000000000000000000000000000000000000000000000000000000004 is much lower than significance level 0.005.\n",
      "\n",
      "This implies that the regression model fits the data way better than model with no independent variables\n"
     ]
    }
   ],
   "source": [
    "ProbF= 4.02e-69 \n",
    "print (\"Model fit test: \\n\") \n",
    "print (\"The Prob (F-statistic) in the model:\", \"{:.69f}\".format(ProbF) ,\"is much lower than significance level 0.005.\") \n",
    "print(\"\\nThis implies that the regression model fits the data way better than model with no independent variables\")"
   ]
  },
  {
   "cell_type": "markdown",
   "metadata": {},
   "source": [
    "<b>7. Dopasować rozkład normalny do zmiennej profit w pierwotnym pliku dane (polecamy utworzyć obiekt \n",
    " norm z pakietu scipy.stats, dla rozjaśnienia sytuacji polecamy również wykonać histogram profitu z transakcji).\n",
    " Na tej podstawie policzyć prawdopodobieństwo, że profit z transakcji będzie większy niż 1000. </b>"
   ]
  },
  {
   "cell_type": "code",
   "execution_count": 16,
   "metadata": {},
   "outputs": [],
   "source": [
    "profit_dist = list(df['profit'])"
   ]
  },
  {
   "cell_type": "code",
   "execution_count": 17,
   "metadata": {},
   "outputs": [
    {
     "data": {
      "image/png": "[encoded data removed]",
      "text/plain": [
       "<Figure size 432x288 with 1 Axes>"
      ]
     },
     "metadata": {
      "needs_background": "light"
     },
     "output_type": "display_data"
    }
   ],
   "source": [
    "from scipy.stats import norm\n",
    "\n",
    "# Fit a normal distribution to the data:\n",
    "mu, std = norm.fit(profit_dist)\n",
    "\n",
    "# Plot the histogram.\n",
    "plt.hist(profit_dist, bins=25, density=True, alpha=0.6, color='g')\n",
    "\n",
    "# Plot the PDF.\n",
    "xmin, xmax = plt.xlim()\n",
    "x = np.linspace(xmin, xmax, 100)\n",
    "p = norm.pdf(x, mu, std)\n",
    "plt.plot(x, p, 'k', linewidth=2)\n",
    "title = \"Fit results: mu = %.2f,  std = %.2f\" % (mu, std)\n",
    "plt.title(title)\n",
    "\n",
    "plt.show()"
   ]
  },
  {
   "cell_type": "code",
   "execution_count": 18,
   "metadata": {},
   "outputs": [
    {
     "name": "stdout",
     "output_type": "stream",
     "text": [
      "Probability of profit being more than 1000 estimated at 0.0085 %\n"
     ]
    }
   ],
   "source": [
    "#Probability of profit more than 1000 from scipy:    \n",
    "less_than_value = norm.cdf(1000, loc = -10.55, scale = 423.41)\n",
    "# 1- Pr(less_than_value) for Pr(more_than_value)\n",
    "more_than_value = 1-less_than_value\n",
    "print (\"Probability of profit being more than 1000 estimated at\" , \"{:.4f}\".format((more_than_value)),\"%\" )"
   ]
  },
  {
   "cell_type": "markdown",
   "metadata": {},
   "source": [
    "<b>Bonus: </b>"
   ]
  },
  {
   "cell_type": "code",
   "execution_count": 19,
   "metadata": {},
   "outputs": [
    {
     "data": {
      "image/png": "[encoded data removed]",
      "text/plain": [
       "<Figure size 864x576 with 4 Axes>"
      ]
     },
     "metadata": {
      "needs_background": "light"
     },
     "output_type": "display_data"
    }
   ],
   "source": [
    "#Graphial representation of variables regression showing high correlation of transaction count and profits\n",
    "fig = plt.figure(figsize=(12,8))\n",
    "fig = sm.graphics.plot_partregress_grid(model, fig=fig)"
   ]
  },
  {
   "cell_type": "code",
   "execution_count": null,
   "metadata": {},
   "outputs": [],
   "source": []
  },
  {
   "cell_type": "code",
   "execution_count": 20,
   "metadata": {},
   "outputs": [
    {
     "data": {
      "text/plain": [
       "[<matplotlib.lines.Line2D at 0x1c1fc34550>,\n",
       " <matplotlib.lines.Line2D at 0x1c1fc34668>,\n",
       " <matplotlib.lines.Line2D at 0x1c1fc34630>,\n",
       " <matplotlib.lines.Line2D at 0x1c1fc347b8>]"
      ]
     },
     "execution_count": 20,
     "metadata": {},
     "output_type": "execute_result"
    },
    {
     "data": {
      "image/png": "[encoded data removed]",
      "text/plain": [
       "<Figure size 432x288 with 1 Axes>"
      ]
     },
     "metadata": {
      "needs_background": "light"
     },
     "output_type": "display_data"
    }
   ],
   "source": [
    "# Plotted data below and R^2 at 0.994 confirms a good fit of the model\n",
    "plt.plot(X, Y, 'o', label=\"data\")\n",
    "plt.plot(X, model.fittedvalues, 'x', label=\"OLS\")"
   ]
  }
 ],
 "metadata": {
  "kernelspec": {
   "display_name": "Python 3",
   "language": "python",
   "name": "python3"
  },
  "language_info": {
   "codemirror_mode": {
    "name": "ipython",
    "version": 3
   },
   "file_extension": ".py",
   "mimetype": "text/x-python",
   "name": "python",
   "nbconvert_exporter": "python",
   "pygments_lexer": "ipython3",
   "version": "3.6.6"
  }
 },
 "nbformat": 4,
 "nbformat_minor": 2
}
