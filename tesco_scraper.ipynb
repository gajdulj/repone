{
 "cells": [
  {
   "cell_type": "markdown",
   "metadata": {},
   "source": [
    "### JG: use Selenium to check Tesco delivery availability for the next 3 weeks.\n"
   ]
  },
  {
   "cell_type": "code",
   "execution_count": 1,
   "metadata": {},
   "outputs": [],
   "source": [
    "from selenium import webdriver\n",
    "from selenium.webdriver.chrome.options import Options\n",
    "import time \n",
    "from datetime import date, timedelta"
   ]
  },
  {
   "cell_type": "code",
   "execution_count": 2,
   "metadata": {},
   "outputs": [],
   "source": [
    "# headless Chrome setup\n",
    "options = Options()\n",
    "options.headless = True\n",
    "DRIVER = webdriver.Chrome(options=options)"
   ]
  },
  {
   "cell_type": "code",
   "execution_count": 3,
   "metadata": {},
   "outputs": [],
   "source": [
    "# Read the username and password from a file\n",
    "for line in open(\"login_details.txt\",\"r\").readlines():\n",
    "    loginInfo = line.split(\":\")\n",
    "    USERNAME = loginInfo[0]\n",
    "    PASS = loginInfo[1]"
   ]
  },
  {
   "cell_type": "code",
   "execution_count": 4,
   "metadata": {},
   "outputs": [],
   "source": [
    "def account_login(driver,username,password):  \n",
    "    driver.get(\"https://secure.tesco.com/account/en-GB/login?from=/\")\n",
    "   \n",
    "    # input username\n",
    "    username_box = driver.find_element_by_id('username')\n",
    "    username_box.click()\n",
    "    username_box.send_keys(f\"{username}\")\n",
    "    \n",
    "    # input password\n",
    "    password_box = driver.find_element_by_id('password')\n",
    "    password_box.click()\n",
    "    password_box.send_keys(f'{password}')\n",
    "    \n",
    "    # login\n",
    "    tag_list = driver.find_elements_by_xpath('//*[@id=\"sign-in-form\"]/button/span')\n",
    "    tag_list[0].click()\n",
    "\n",
    "\n",
    "def check_delivery(driver,date_to_check):\n",
    "    driver.get(f\"https://www.tesco.com/groceries/en-GB/slots/delivery/{date_to_check}?slotGroup=4\")\n",
    "    \n",
    "    # load the page content\n",
    "    time.sleep(3) \n",
    "    element = driver.find_element_by_id('content')\n",
    "    website = element.text\n",
    "    na_message=\"No slots available! Try another day\"\n",
    "    \n",
    "    if na_message in website:\n",
    "        return 0\n",
    "    else:\n",
    "        return 1\n",
    "    \n",
    "def availability_report(driver):\n",
    "    today = date.today()\n",
    "    \n",
    "    # check next 3 weeks\n",
    "    dates_to_check= [today,today +timedelta(days=7),\n",
    "                     today + timedelta(days=14)]\n",
    "    # result to dict\n",
    "    availability_report={}\n",
    "    for d in dates_to_check:\n",
    "        availability_report[str(d)]=check_delivery(driver,d)\n",
    "        \n",
    "    return availability_report"
   ]
  },
  {
   "cell_type": "code",
   "execution_count": 5,
   "metadata": {},
   "outputs": [],
   "source": [
    "# login & scrape the website\n",
    "account_login(driver=DRIVER,username=USERNAME,password=PASS)\n",
    "report=availability_report(driver=DRIVER)"
   ]
  },
  {
   "cell_type": "code",
   "execution_count": 6,
   "metadata": {},
   "outputs": [
    {
     "name": "stdout",
     "output_type": "stream",
     "text": [
      "Delivery available in weeks commencing:\n",
      "\n",
      "2020-04-16 :  0\n",
      "2020-04-23 :  0\n",
      "2020-04-30 :  0\n"
     ]
    }
   ],
   "source": [
    "print('Delivery available in weeks commencing:\\n')\n",
    "for k, v in report.items():\n",
    "    print(k, ': ', v)"
   ]
  },
  {
   "cell_type": "code",
   "execution_count": 7,
   "metadata": {},
   "outputs": [
    {
     "name": "stdout",
     "output_type": "stream",
     "text": [
      "No deliveries available in next 3 weeks...\n"
     ]
    }
   ],
   "source": [
    "if sum(report.values())<1:\n",
    "    print(\"No deliveries available in next 3 weeks...\")\n",
    "else:\n",
    "    print(\"Deliveries available!!!\")"
   ]
  },
  {
   "cell_type": "code",
   "execution_count": 8,
   "metadata": {},
   "outputs": [],
   "source": [
    "DRIVER.quit()"
   ]
  }
 ],
 "metadata": {
  "kernelspec": {
   "display_name": "Python (gajdulj)",
   "language": "python",
   "name": "gajdulj"
  },
  "language_info": {
   "codemirror_mode": {
    "name": "ipython",
    "version": 3
   },
   "file_extension": ".py",
   "mimetype": "text/x-python",
   "name": "python",
   "nbconvert_exporter": "python",
   "pygments_lexer": "ipython3",
   "version": "3.7.6"
  }
 },
 "nbformat": 4,
 "nbformat_minor": 4
}
